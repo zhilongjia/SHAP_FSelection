{
 "cells": [
  {
   "cell_type": "code",
   "execution_count": 34,
   "id": "75f35b3f-aa1b-4c64-9150-117aa5b30271",
   "metadata": {},
   "outputs": [
    {
     "name": "stdout",
     "output_type": "stream",
     "text": [
      "Enabling notebook extension jupyter-js-widgets/extension...\n",
      "      - Validating: \u001b[32mOK\u001b[0m\n"
     ]
    }
   ],
   "source": [
    "!jupyter nbextension enable --py widgetsnbextension"
   ]
  },
  {
   "cell_type": "code",
   "execution_count": 27,
   "id": "1ea38b16-bec5-483e-8aea-524472f05faa",
   "metadata": {},
   "outputs": [],
   "source": [
    "from sklearn.datasets import load_iris\n",
    "import numpy as np\n",
    "from sklearn.model_selection import train_test_split\n",
    "from sklearn.metrics import accuracy_score"
   ]
  },
  {
   "cell_type": "code",
   "execution_count": 14,
   "id": "43b3387e-11cf-4aa4-a566-999bdc475c79",
   "metadata": {},
   "outputs": [],
   "source": [
    "from sklearn.datasets import load_breast_cancer\n",
    "breast_cancer_data = load_breast_cancer()\n"
   ]
  },
  {
   "cell_type": "code",
   "execution_count": 18,
   "id": "5100299c-e110-418f-86c6-b3bd936e030c",
   "metadata": {},
   "outputs": [
    {
     "data": {
      "text/plain": [
       "array([0, 1, 1, 1, 1, 1, 1, 1, 1, 1, 1, 1, 1, 1, 1, 0, 1, 0, 0, 0, 0, 0,\n",
       "       1, 1, 0, 1, 1, 0, 1, 0, 1, 0, 1, 0, 1, 0, 1, 0, 1, 0, 0, 1, 0, 1,\n",
       "       1, 0, 1, 1, 1, 0, 0, 0, 0, 1, 1, 1, 1, 1, 1, 0, 0, 0, 1, 1, 0, 1,\n",
       "       0, 0, 0, 1, 1, 0, 1, 0, 0, 1, 1, 1, 1, 1, 0, 0, 0, 1, 0, 1, 1, 1,\n",
       "       0, 0, 1, 0, 1, 0, 1, 1, 0, 1, 1, 1, 1, 1, 1, 1, 0, 1, 0, 1, 0, 0,\n",
       "       1, 0, 0, 1])"
      ]
     },
     "execution_count": 18,
     "metadata": {},
     "output_type": "execute_result"
    }
   ],
   "source": [
    "y_test"
   ]
  },
  {
   "cell_type": "code",
   "execution_count": 36,
   "id": "7fd01a3b-7247-4373-90a5-89d4dd3daa3d",
   "metadata": {},
   "outputs": [],
   "source": [
    "import catboost as cb\n",
    "from catboost import CatBoostClassifier, Pool, metrics, cv"
   ]
  },
  {
   "cell_type": "code",
   "execution_count": 38,
   "id": "fe2146de-8a28-45eb-b228-6a26afce46ab",
   "metadata": {},
   "outputs": [],
   "source": [
    "X, y = breast_cancer_data.data, breast_cancer_data.target\n",
    "feature_names = np.array(breast_cancer_data.feature_names)\n",
    "\n",
    "X_train, X_test, y_train, y_test = train_test_split(X, y, test_size=0.2, random_state=0)\n",
    "validate_pool = cb.Pool(X_test, y_test)"
   ]
  },
  {
   "cell_type": "code",
   "execution_count": 41,
   "id": "488dd98c-f5b9-408c-965e-58bf79a30341",
   "metadata": {},
   "outputs": [],
   "source": [
    "metrics = model.eval_metrics(validate_pool, [cb.metrics.AUC(), cb.metrics.Accuracy()], plot=False)"
   ]
  },
  {
   "cell_type": "code",
   "execution_count": null,
   "id": "a07b6478-f600-44ca-98aa-8892b71e45af",
   "metadata": {},
   "outputs": [],
   "source": []
  },
  {
   "cell_type": "code",
   "execution_count": 42,
   "id": "20c7d69f-db10-4f35-ba14-66d76b085308",
   "metadata": {},
   "outputs": [
    {
     "data": {
      "text/plain": [
       "<catboost.core.CatBoostClassifier at 0x7fdc05208040>"
      ]
     },
     "execution_count": 42,
     "metadata": {},
     "output_type": "execute_result"
    }
   ],
   "source": [
    "model = cb.CatBoostClassifier(verbose=False)\n",
    "model.fit(X_train, y_train, eval_set=validate_pool)"
   ]
  },
  {
   "cell_type": "code",
   "execution_count": 23,
   "id": "eaeba055-d307-40e1-bca8-81a257ff9697",
   "metadata": {},
   "outputs": [
    {
     "name": "stdout",
     "output_type": "stream",
     "text": [
      "class =  [0 1 1 1 1 1 1 1 1 1 1 1 1 0 1 0 1 0 0 0 0 0 1 1 0 1 1 0 1 0 1 0 1 0 1 0 1\n",
      " 0 1 0 0 1 0 1 1 0 1 1 1 0 0 0 0 1 1 1 1 1 1 0 0 0 1 1 0 1 0 0 0 1 1 0 1 1\n",
      " 0 1 1 1 1 1 0 0 0 1 0 1 1 1 0 0 1 1 1 0 1 1 0 1 1 1 1 1 1 1 0 1 0 1 0 0 1\n",
      " 0 0 1]\n"
     ]
    }
   ],
   "source": [
    "preds_class = model.predict(X_test)\n",
    "# preds_proba = model.predict_proba(X_test)\n",
    "print(\"class = \", preds_class)"
   ]
  },
  {
   "cell_type": "code",
   "execution_count": 43,
   "id": "63909104-6df4-4af9-9c01-e1ad32a52fb8",
   "metadata": {},
   "outputs": [],
   "source": [
    "from shap_selection import feature_selection\n",
    "\n",
    "# please, use agnostic = True to use with any model...\n",
    "# agnostic = False will only work with tree-based models\n",
    "feature_order = feature_selection.shap_select(model, X_train, X_test, feature_names, agnostic=False)"
   ]
  },
  {
   "cell_type": "code",
   "execution_count": 44,
   "id": "ddc93d0f-a570-4312-93da-3de1bebac784",
   "metadata": {},
   "outputs": [
    {
     "data": {
      "image/png": "[encoded data removed]",
      "text/plain": [
       "<Figure size 432x288 with 1 Axes>"
      ]
     },
     "metadata": {
      "needs_background": "light"
     },
     "output_type": "display_data"
    }
   ],
   "source": [
    "import matplotlib.pyplot as plt\n",
    "\n",
    "plt.bar(feature_order[0],feature_order[1])\n",
    "plt.xticks(rotation=90)\n",
    "plt.show()"
   ]
  }
 ],
 "metadata": {
  "kernelspec": {
   "display_name": "Python 3 (ipykernel)",
   "language": "python",
   "name": "python3"
  },
  "language_info": {
   "codemirror_mode": {
    "name": "ipython",
    "version": 3
   },
   "file_extension": ".py",
   "mimetype": "text/x-python",
   "name": "python",
   "nbconvert_exporter": "python",
   "pygments_lexer": "ipython3",
   "version": "3.8.8"
  }
 },
 "nbformat": 4,
 "nbformat_minor": 5
}
