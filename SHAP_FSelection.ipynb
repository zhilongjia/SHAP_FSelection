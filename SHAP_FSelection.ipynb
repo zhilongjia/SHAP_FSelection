{
 "cells": [
  {
   "cell_type": "code",
   "execution_count": 3,
   "id": "affe2b8d-47d2-4c8d-8ffd-a5e780d8f908",
   "metadata": {},
   "outputs": [],
   "source": [
    "from sklearn.datasets import load_iris\n",
    "import numpy as np\n",
    "from sklearn.model_selection import train_test_split\n",
    "\n",
    "iris_data = load_iris()\n",
    "\n",
    "X, y = iris_data.data, iris_data.target\n",
    "feature_names = np.array(iris_data.feature_names)\n",
    "\n",
    "X_train, X_test, y_train, y_test = train_test_split(X, y, test_size=0.2, random_state=0)"
   ]
  },
  {
   "cell_type": "code",
   "execution_count": 4,
   "id": "0cd08e2a-8fe9-467c-b7d6-c53a385b4aec",
   "metadata": {},
   "outputs": [
    {
     "data": {
      "text/plain": [
       "array(['sepal length (cm)', 'sepal width (cm)', 'petal length (cm)',\n",
       "       'petal width (cm)'], dtype='<U17')"
      ]
     },
     "execution_count": 4,
     "metadata": {},
     "output_type": "execute_result"
    }
   ],
   "source": [
    "feature_names"
   ]
  },
  {
   "cell_type": "code",
   "execution_count": 5,
   "id": "b6a3d368-b841-4d96-8eb7-b7cff9ac7100",
   "metadata": {},
   "outputs": [
    {
     "data": {
      "text/plain": [
       "<catboost.core.CatBoostClassifier at 0x7faa479cfe80>"
      ]
     },
     "execution_count": 5,
     "metadata": {},
     "output_type": "execute_result"
    }
   ],
   "source": [
    "import catboost as cb\n",
    "\n",
    "model = cb.CatBoostClassifier(verbose=False)\n",
    "model.fit(X_train, y_train)"
   ]
  },
  {
   "cell_type": "code",
   "execution_count": 6,
   "id": "969aac73-af6d-4c1d-8203-eee0cf8440bd",
   "metadata": {},
   "outputs": [],
   "source": [
    "from shap_selection import feature_selection\n",
    "\n",
    "# please, use agnostic = True to use with any model...\n",
    "# agnostic = False will only work with tree-based models\n",
    "feature_order = feature_selection.shap_select(model, X_train, X_test, feature_names, agnostic=False)"
   ]
  },
  {
   "cell_type": "code",
   "execution_count": 13,
   "id": "0ab81a50-e682-4f3e-8ee9-7428466cdf36",
   "metadata": {},
   "outputs": [
    {
     "data": {
      "text/plain": [
       "tuple"
      ]
     },
     "execution_count": 13,
     "metadata": {},
     "output_type": "execute_result"
    }
   ],
   "source": [
    "type(feature_order)"
   ]
  },
  {
   "cell_type": "code",
   "execution_count": 16,
   "id": "827e588f-1024-4df2-b2ba-0e6357e781c4",
   "metadata": {},
   "outputs": [
    {
     "data": {
      "text/plain": [
       "array(['petal width (cm)', 'petal length (cm)', 'sepal length (cm)',\n",
       "       'sepal width (cm)'], dtype='<U17')"
      ]
     },
     "execution_count": 16,
     "metadata": {},
     "output_type": "execute_result"
    }
   ],
   "source": [
    "feature_order[0]"
   ]
  },
  {
   "cell_type": "code",
   "execution_count": 18,
   "id": "f4f17329-b8df-4ca4-b345-56398eedcff0",
   "metadata": {},
   "outputs": [
    {
     "data": {
      "image/png": "[encoded data removed]",
      "text/plain": [
       "<Figure size 432x288 with 1 Axes>"
      ]
     },
     "metadata": {
      "needs_background": "light"
     },
     "output_type": "display_data"
    }
   ],
   "source": [
    "import matplotlib.pyplot as plt\n",
    "\n",
    "plt.bar(feature_order[0],feature_order[1])\n",
    "plt.xticks(rotation=90)\n",
    "plt.show()"
   ]
  }
 ],
 "metadata": {
  "kernelspec": {
   "display_name": "Python 3 (ipykernel)",
   "language": "python",
   "name": "python3"
  },
  "language_info": {
   "codemirror_mode": {
    "name": "ipython",
    "version": 3
   },
   "file_extension": ".py",
   "mimetype": "text/x-python",
   "name": "python",
   "nbconvert_exporter": "python",
   "pygments_lexer": "ipython3",
   "version": "3.8.8"
  }
 },
 "nbformat": 4,
 "nbformat_minor": 5
}
